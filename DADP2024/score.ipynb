{
 "cells": [
  {
   "cell_type": "code",
   "execution_count": 1,
   "metadata": {},
   "outputs": [],
   "source": [
    "import pandas as pd "
   ]
  },
  {
   "cell_type": "code",
   "execution_count": 2,
   "metadata": {},
   "outputs": [],
   "source": [
    "wedding = pd.read_csv('wedding_merged.csv')\n",
    "cheese = pd.read_csv('cheese_merged.csv')"
   ]
  },
  {
   "cell_type": "code",
   "execution_count": null,
   "metadata": {},
   "outputs": [],
   "source": [
    "# Nastavení primárních klíčů\n",
    "cheese['cheeses_ID'] = cheese['cheese']  # Použití názvu sýra jako primárního klíče\n",
    "wedding['wedding_ID'] = wedding['Type of Wine'] + \" - \" + wedding['Wine Grape']  # Kombinace sloupců Type of Wine a Wine Grape  "
   ]
  },
  {
   "cell_type": "code",
   "execution_count": 4,
   "metadata": {},
   "outputs": [],
   "source": [
    "# Cross join tabulek (každý řádek s každým řádkem)\n",
    "cross_join = cheese.merge(wedding, how='cross')"
   ]
  },
  {
   "cell_type": "code",
   "execution_count": 5,
   "metadata": {},
   "outputs": [
    {
     "data": {
      "text/plain": [
       "35"
      ]
     },
     "execution_count": 5,
     "metadata": {},
     "output_type": "execute_result"
    }
   ],
   "source": [
    "# Výběr sloupců, které mají True/False hodnoty\n",
    "boolean_columns = [col for col in cheese.columns if col in wedding.columns and cheese[col].dtype == 'bool' and col[:7] != 'family_']\n",
    "num_boolean_columns = len(boolean_columns) +3  # Počet sloupců pro výpočet procenta\n",
    "num_boolean_columns"
   ]
  },
  {
   "cell_type": "code",
   "execution_count": 6,
   "metadata": {},
   "outputs": [],
   "source": [
    "# # Výpočet skóre\n",
    "\n",
    "# cross_join['score'] = 0\n",
    "# for col in boolean_columns:\n",
    "#     cross_join['score'] += (cross_join[col + '_x'] == cross_join[col + '_y']).astype(int)\n",
    "# if cross_join['family_new_x'] == \"gouda\": #cross_join['family_new_y']:\n",
    "#     cross_join['score'] += 3 \n",
    "\n",
    "# Výpočet skóre\n",
    "if not boolean_columns:\n",
    "    print(\"Žádné boolean sloupce pro porovnání!\")\n",
    "else:\n",
    "    cross_join['score'] = 0\n",
    "    for col in boolean_columns:\n",
    "        cross_join['score'] += (cross_join[col + '_x'] == cross_join[col + '_y']).astype(int)\n",
    "\n",
    "    # Zvýšení skóre o 3, pokud se family_new_x a family_new_y shodují\n",
    "    cross_join['score'] += (cross_join['family_new_x'] == cross_join['family_new_y']).astype(int) * 3\n"
   ]
  },
  {
   "cell_type": "code",
   "execution_count": null,
   "metadata": {},
   "outputs": [],
   "source": [
    "# Výpočet procentuální shody\n",
    "cross_join['match_percentage'] = round((cross_join['score'] / num_boolean_columns), 2).astype(float)\n"
   ]
  },
  {
   "cell_type": "code",
   "execution_count": 8,
   "metadata": {},
   "outputs": [],
   "source": [
    "# Přeskupení a agregace dat\n",
    "score_tab = cross_join.groupby(['cheeses_ID', 'wedding_ID'], as_index=False).agg(\n",
    "    MAX_SCORE=('score', 'max'),\n",
    "    MAX_MATCH_PERCENTAGE=('match_percentage', 'max')\n",
    ")\n",
    "\n"
   ]
  },
  {
   "cell_type": "code",
   "execution_count": 9,
   "metadata": {},
   "outputs": [],
   "source": [
    "score_tab.to_csv('score_tab.csv', index=False)\n"
   ]
  },
  {
   "cell_type": "code",
   "execution_count": 10,
   "metadata": {},
   "outputs": [
    {
     "data": {
      "text/html": [
       "<div>\n",
       "<style scoped>\n",
       "    .dataframe tbody tr th:only-of-type {\n",
       "        vertical-align: middle;\n",
       "    }\n",
       "\n",
       "    .dataframe tbody tr th {\n",
       "        vertical-align: top;\n",
       "    }\n",
       "\n",
       "    .dataframe thead th {\n",
       "        text-align: right;\n",
       "    }\n",
       "</style>\n",
       "<table border=\"1\" class=\"dataframe\">\n",
       "  <thead>\n",
       "    <tr style=\"text-align: right;\">\n",
       "      <th></th>\n",
       "      <th>cheeses_ID</th>\n",
       "      <th>wedding_ID</th>\n",
       "      <th>MAX_SCORE</th>\n",
       "      <th>MAX_MATCH_PERCENTAGE</th>\n",
       "    </tr>\n",
       "  </thead>\n",
       "  <tbody>\n",
       "    <tr>\n",
       "      <th>0</th>\n",
       "      <td>ADL Brick Cheese</td>\n",
       "      <td>port - Gouveio</td>\n",
       "      <td>21</td>\n",
       "      <td>0.60</td>\n",
       "    </tr>\n",
       "    <tr>\n",
       "      <th>1</th>\n",
       "      <td>ADL Brick Cheese</td>\n",
       "      <td>port - Malvasia Fina</td>\n",
       "      <td>21</td>\n",
       "      <td>0.60</td>\n",
       "    </tr>\n",
       "    <tr>\n",
       "      <th>2</th>\n",
       "      <td>ADL Brick Cheese</td>\n",
       "      <td>port - Sousão</td>\n",
       "      <td>18</td>\n",
       "      <td>0.51</td>\n",
       "    </tr>\n",
       "    <tr>\n",
       "      <th>3</th>\n",
       "      <td>ADL Brick Cheese</td>\n",
       "      <td>port - Tempranillo</td>\n",
       "      <td>27</td>\n",
       "      <td>0.77</td>\n",
       "    </tr>\n",
       "    <tr>\n",
       "      <th>4</th>\n",
       "      <td>ADL Brick Cheese</td>\n",
       "      <td>port - Tinta Amarela</td>\n",
       "      <td>27</td>\n",
       "      <td>0.77</td>\n",
       "    </tr>\n",
       "  </tbody>\n",
       "</table>\n",
       "</div>"
      ],
      "text/plain": [
       "         cheeses_ID            wedding_ID  MAX_SCORE  MAX_MATCH_PERCENTAGE\n",
       "0  ADL Brick Cheese        port - Gouveio         21                  0.60\n",
       "1  ADL Brick Cheese  port - Malvasia Fina         21                  0.60\n",
       "2  ADL Brick Cheese         port - Sousão         18                  0.51\n",
       "3  ADL Brick Cheese    port - Tempranillo         27                  0.77\n",
       "4  ADL Brick Cheese  port - Tinta Amarela         27                  0.77"
      ]
     },
     "execution_count": 10,
     "metadata": {},
     "output_type": "execute_result"
    }
   ],
   "source": [
    "score_tab.head()"
   ]
  },
  {
   "cell_type": "code",
   "execution_count": null,
   "metadata": {},
   "outputs": [],
   "source": []
  }
 ],
 "metadata": {
  "kernelspec": {
   "display_name": "Python 3",
   "language": "python",
   "name": "python3"
  },
  "language_info": {
   "codemirror_mode": {
    "name": "ipython",
    "version": 3
   },
   "file_extension": ".py",
   "mimetype": "text/x-python",
   "name": "python",
   "nbconvert_exporter": "python",
   "pygments_lexer": "ipython3",
   "version": "3.12.10"
  }
 },
 "nbformat": 4,
 "nbformat_minor": 2
}
