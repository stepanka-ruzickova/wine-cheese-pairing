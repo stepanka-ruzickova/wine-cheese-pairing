{
 "cells": [
  {
   "cell_type": "markdown",
   "metadata": {},
   "source": [
    "### Import"
   ]
  },
  {
   "cell_type": "code",
   "execution_count": 137,
   "metadata": {},
   "outputs": [],
   "source": [
    "import pandas as pd\n",
    "wedding = pd.read_csv(r'C:\\Users\\NB\\OneDrive\\Dokumenty\\aDA_24_PROJECT\\wedding.csv')\n",
    "cheese = pd.read_csv(r'C:\\Users\\NB\\OneDrive\\Dokumenty\\aDA_24_PROJECT\\cheeses.csv')"
   ]
  },
  {
   "cell_type": "markdown",
   "metadata": {},
   "source": [
    "### Texture cheese"
   ]
  },
  {
   "cell_type": "markdown",
   "metadata": {},
   "source": [
    "Explode"
   ]
  },
  {
   "cell_type": "code",
   "execution_count": null,
   "metadata": {},
   "outputs": [],
   "source": []
  },
  {
   "cell_type": "code",
   "execution_count": 138,
   "metadata": {},
   "outputs": [],
   "source": [
    "pd.DataFrame(cheese['texture'].unique())\n",
    "cheese['texture_list'] = cheese['texture'].str.split(',')\n",
    "cheese_texture = cheese[['cheese', 'texture_list']].explode('texture_list')\n",
    "cheese_texture['texture_list'] = cheese_texture['texture_list'].str.strip()\n",
    "#cheese_texture.groupby(by='texture_list').count().sort_values(by='cheese', ascending=False)"
   ]
  },
  {
   "cell_type": "markdown",
   "metadata": {},
   "source": [
    "Mapping"
   ]
  },
  {
   "cell_type": "code",
   "execution_count": 139,
   "metadata": {},
   "outputs": [],
   "source": [
    "cheese_texture_mapping = {\n",
    "'soft': ['smooth'],\n",
    "'supple': ['smooth'],\n",
    "'smooth': ['smooth'],\n",
    "'spreadable': ['smooth'],\n",
    "'open': ['smooth'],\n",
    "'soft-ripened': ['smooth'],\n",
    "'gooey': ['smooth'],\n",
    "'sticky': ['smooth'],\n",
    "'creamy': ['creamy'],\n",
    "'buttery': ['creamy'],\n",
    "'runny': ['creamy'],\n",
    "'oily': ['creamy'],\n",
    "'fluffy': ['creamy'],\n",
    "'crumbly': ['crumbly'],\n",
    "'brittle': ['crumbly'],\n",
    "'flaky': ['crumbly'],\n",
    "'firm': ['firm'],\n",
    "'dense': ['firm'],\n",
    "'compact': ['firm'],\n",
    "'semi firm': ['firm'],\n",
    "'chewy': ['firm'],\n",
    "'springy': ['firm'],\n",
    "'hard': ['hard'],\n",
    "'crystalline': ['hard'],\n",
    "'chalky': ['hard'],\n",
    "'granular': ['granular'],\n",
    "'grainy': ['granular'],\n",
    "'dry': ['granular'],\n",
    "'close': ['granular'],\n",
    "'elastic': ['elastic'],\n",
    "'stringy': ['elastic'],\n",
    "}\n",
    "texture_mapping = pd.DataFrame.from_dict(cheese_texture_mapping, orient='index', columns=['texture'])"
   ]
  },
  {
   "cell_type": "markdown",
   "metadata": {},
   "source": [
    "Merging"
   ]
  },
  {
   "cell_type": "code",
   "execution_count": 140,
   "metadata": {},
   "outputs": [],
   "source": [
    "cheese_texture_mapped = cheese_texture.merge(texture_mapping, how = 'left', left_on='texture_list', right_index=True )\n",
    "cheese_texture_mapped = cheese_texture_mapped.drop_duplicates(subset = ['texture','cheese'])"
   ]
  },
  {
   "cell_type": "markdown",
   "metadata": {},
   "source": [
    "Collaps"
   ]
  },
  {
   "cell_type": "code",
   "execution_count": 141,
   "metadata": {},
   "outputs": [],
   "source": [
    "cheese_texture_mapped = cheese_texture_mapped.dropna()\n",
    "cheese_texture_final = cheese_texture_mapped.groupby(by='cheese').agg({'texture':', '.join})\n",
    "cheese_merged = cheese.merge(cheese_texture_final, how = 'left', on = 'cheese')\n"
   ]
  },
  {
   "cell_type": "markdown",
   "metadata": {},
   "source": [
    "Dummies"
   ]
  },
  {
   "cell_type": "code",
   "execution_count": 142,
   "metadata": {},
   "outputs": [],
   "source": [
    "texture_dummies = cheese_merged['texture_y'].str.get_dummies(sep=', ').astype(bool)\n",
    "cheese_merged = pd.concat([cheese_merged, texture_dummies], axis=1)\n",
    "# cheese_merged"
   ]
  },
  {
   "cell_type": "markdown",
   "metadata": {},
   "source": [
    "### Texture wedding"
   ]
  },
  {
   "cell_type": "markdown",
   "metadata": {},
   "source": [
    "Explode"
   ]
  },
  {
   "cell_type": "code",
   "execution_count": 143,
   "metadata": {},
   "outputs": [],
   "source": [
    "pd.DataFrame(wedding['Textura Queijo'].unique())\n",
    "wedding['texture_list'] = wedding['Textura Queijo'].str.split(',')\n",
    "wedding_texture = wedding[['Tipo de Queijo', 'texture_list']].explode('texture_list')\n",
    "wedding_texture['texture_list'] = wedding_texture['texture_list'].str.strip()\n",
    "wedding_texture['texture_list'] = wedding_texture['texture_list'].str.lower()\n",
    "#wedding_texture.groupby(by='texture_list').count().sort_values(by='Tipo de Queijo', ascending=False)"
   ]
  },
  {
   "cell_type": "markdown",
   "metadata": {},
   "source": [
    "Mapping"
   ]
  },
  {
   "cell_type": "code",
   "execution_count": 144,
   "metadata": {},
   "outputs": [],
   "source": [
    "wedding_texture_translation = {\n",
    "'macia': ['smooth'],\n",
    "'cremosa': ['creamy'],\n",
    "'esfarelante': ['crumbly'],\n",
    "'firme': ['firm'],\n",
    "'dura': ['hard'],\n",
    "'granulada': ['granular'],\n",
    "'cremoso': ['creamy'],\n",
    "'macio': ['smooth'],\n",
    "'quebradiça': ['crumbly'],\n",
    "'elástica': ['elastic'],\n",
    "'granulosa': ['granular'],\n",
    "}\n",
    "texture_translation = pd.DataFrame.from_dict(wedding_texture_translation, orient='index', columns=['texture_pt'])"
   ]
  },
  {
   "cell_type": "markdown",
   "metadata": {},
   "source": [
    "Merging"
   ]
  },
  {
   "cell_type": "code",
   "execution_count": 145,
   "metadata": {},
   "outputs": [],
   "source": [
    "wedding_texture_translated = wedding_texture.merge(texture_translation, how = 'left', left_on='texture_list', right_index=True)\n",
    "wedding_texture_translated = wedding_texture_translated.drop_duplicates(subset = ['texture_pt','Tipo de Queijo'])"
   ]
  },
  {
   "cell_type": "markdown",
   "metadata": {},
   "source": [
    "Collaps"
   ]
  },
  {
   "cell_type": "code",
   "execution_count": 146,
   "metadata": {},
   "outputs": [],
   "source": [
    "wedding_texture_translated = wedding_texture_translated.dropna()\n",
    "wedding_texture_final= wedding_texture_translated.groupby(by='Tipo de Queijo').agg({'texture_pt':', '.join})\n",
    "wedding_merged = wedding.merge(wedding_texture_final, how = 'left', on = 'Tipo de Queijo')"
   ]
  },
  {
   "cell_type": "markdown",
   "metadata": {},
   "source": [
    "Dummies"
   ]
  },
  {
   "cell_type": "code",
   "execution_count": 147,
   "metadata": {},
   "outputs": [],
   "source": [
    "texture_pt_dummies = wedding_merged['texture_pt'].str.get_dummies(sep=', ').astype(bool)\n",
    "wedding_merged = pd.concat([wedding_merged, texture_pt_dummies], axis=1)\n",
    "# wedding_merged"
   ]
  },
  {
   "cell_type": "markdown",
   "metadata": {},
   "source": [
    "### Type cheese"
   ]
  },
  {
   "cell_type": "code",
   "execution_count": 148,
   "metadata": {},
   "outputs": [],
   "source": [
    "code = \"cheese.loc[cheese['cheese'] == 'Barilotto', 'type'] = 'fresh'\"\n",
    "fixed_code = code.replace('\\u00A0', ' ')  # Nahrazení nezalomitelné mezery\n",
    "\n"
   ]
  },
  {
   "cell_type": "markdown",
   "metadata": {},
   "source": [
    "Explode"
   ]
  },
  {
   "cell_type": "code",
   "execution_count": 149,
   "metadata": {},
   "outputs": [],
   "source": [
    "pd.DataFrame(cheese['type'].unique())\n",
    "cheese['type_list'] = cheese['type'].str.split(',')\n",
    "cheese_type = cheese[['cheese', 'type_list']].explode('type_list')\n",
    "cheese_type['type_list'] = cheese_type['type_list'].str.strip()"
   ]
  },
  {
   "cell_type": "markdown",
   "metadata": {},
   "source": [
    "Mapping"
   ]
  },
  {
   "cell_type": "code",
   "execution_count": 150,
   "metadata": {},
   "outputs": [],
   "source": [
    "cheese_type_mapping = {\n",
    "    'blue-veined': ['blue'],\n",
    "    'semi-hard': ['semi-hard'],\n",
    "    'semi-firm': ['semi-hard'],\n",
    "    'semi-soft': ['semi-hard'],\n",
    "    'artisan': ['semi-hard'],\n",
    "    'hard': ['hard'],\n",
    "    'soft': ['soft'],\n",
    "    'soft-ripened': ['soft'],\n",
    "    'fresh soft': ['soft'],\n",
    "    'smear-ripened': ['soft'],\n",
    "    'fresh firm': ['soft'],\n",
    "    'fresh': ['fresh'],\n",
    "    'brined': ['fresh'],\n",
    "    'whey': ['fresh'],\n",
    "    'organic': ['fresh'],\n",
    "    'processed': ['fresh'],\n",
    "}\n",
    "type_mapping = pd.DataFrame.from_dict(cheese_type_mapping, orient='index', columns=['type'])"
   ]
  },
  {
   "cell_type": "markdown",
   "metadata": {},
   "source": [
    "Merging"
   ]
  },
  {
   "cell_type": "code",
   "execution_count": 151,
   "metadata": {},
   "outputs": [],
   "source": [
    "cheese_type_mapped = cheese_type.merge(type_mapping, how = 'left', left_on='type_list', right_index=True )\n",
    "cheese_type_mapped = cheese_type_mapped.drop_duplicates(subset = ['type','cheese'])"
   ]
  },
  {
   "cell_type": "markdown",
   "metadata": {},
   "source": [
    "Collaps"
   ]
  },
  {
   "cell_type": "code",
   "execution_count": 152,
   "metadata": {},
   "outputs": [],
   "source": [
    "cheese_type_mapped['type'] = cheese_type_mapped['type'].fillna('').astype(str)\n",
    "cheese_type_final = cheese_type_mapped.groupby(by=\"cheese\").agg({'type':', '.join})\n",
    "cheese_merged = (cheese_merged.merge(cheese_type_final, how = 'left', on = 'cheese'))"
   ]
  },
  {
   "cell_type": "markdown",
   "metadata": {},
   "source": [
    "Dummies"
   ]
  },
  {
   "cell_type": "code",
   "execution_count": 153,
   "metadata": {},
   "outputs": [],
   "source": [
    "type_dummies = cheese_merged['type_y'].str.get_dummies(sep=', ').astype(bool)\n",
    "cheese_merged = pd.concat([cheese_merged, type_dummies], axis=1)\n",
    "# cheese_merged"
   ]
  },
  {
   "cell_type": "markdown",
   "metadata": {},
   "source": [
    "### Type wedding"
   ]
  },
  {
   "cell_type": "markdown",
   "metadata": {},
   "source": [
    "Mapping"
   ]
  },
  {
   "cell_type": "code",
   "execution_count": 154,
   "metadata": {},
   "outputs": [],
   "source": [
    "wedding_type_translation = {\n",
    "    'Azul': ['blue'],\n",
    "    'Semi-dura': ['semi-hard'],\n",
    "    'Dura': ['hard'],\n",
    "    'Duro': ['hard'],\n",
    "    'Macia': ['soft'],\n",
    "    'Macio': ['soft'],\n",
    "    'Fresco': ['fresh'],\n",
    "}\n",
    "type_translation = pd.DataFrame.from_dict(wedding_type_translation, orient='index', columns=['type_pt'])"
   ]
  },
  {
   "cell_type": "markdown",
   "metadata": {},
   "source": [
    "Merging"
   ]
  },
  {
   "cell_type": "code",
   "execution_count": 155,
   "metadata": {},
   "outputs": [],
   "source": [
    "wedding_type = wedding[['Tipo de Queijo', 'Família Queijo']]\n",
    "wedding_type_translated = wedding_type.merge(type_translation, how = 'left', left_on='Família Queijo', right_index=True)\n",
    "wedding_type_translated = wedding_type_translated.drop_duplicates(subset = ['type_pt','Tipo de Queijo'])"
   ]
  },
  {
   "cell_type": "markdown",
   "metadata": {},
   "source": [
    "Collaps"
   ]
  },
  {
   "cell_type": "code",
   "execution_count": 156,
   "metadata": {},
   "outputs": [],
   "source": [
    "wedding_type_translated['type_pt'] = wedding_type_translated['type_pt'].fillna('').astype(str)\n",
    "wedding_type_final= wedding_type_translated.groupby(by='Tipo de Queijo').agg({'type_pt':', '.join})\n",
    "wedding_merged = wedding_merged.merge(wedding_type_final, how = 'left', on = 'Tipo de Queijo')"
   ]
  },
  {
   "cell_type": "markdown",
   "metadata": {},
   "source": [
    "Dummies"
   ]
  },
  {
   "cell_type": "code",
   "execution_count": 157,
   "metadata": {},
   "outputs": [],
   "source": [
    "type_pt_dummies = wedding_merged['type_pt'].str.get_dummies(sep=', ').astype(bool)\n",
    "wedding_merged = pd.concat([wedding_merged, type_pt_dummies], axis=1)\n",
    "# wedding_merged"
   ]
  },
  {
   "cell_type": "markdown",
   "metadata": {},
   "source": [
    "### Family cheese"
   ]
  },
  {
   "cell_type": "code",
   "execution_count": null,
   "metadata": {},
   "outputs": [],
   "source": [
    "cheese.loc[cheese['cheese'] == 'Barilotto', 'family'] = 'mozzarella'\n",
    "cheese.loc[cheese['cheese'] == 'Leafield', 'family'] = 'cheddar'"
   ]
  },
  {
   "cell_type": "code",
   "execution_count": 159,
   "metadata": {},
   "outputs": [],
   "source": [
    "#list(cheese['family'].unique())"
   ]
  },
  {
   "cell_type": "markdown",
   "metadata": {},
   "source": [
    "Mapping"
   ]
  },
  {
   "cell_type": "code",
   "execution_count": 160,
   "metadata": {},
   "outputs": [],
   "source": [
    "cheese_family_mapping = {\n",
    "    'Cheddar': ['cheddar'],\n",
    "    'Feta': ['feta'],\n",
    "    'Blue': ['blue'],\n",
    "    'Swiss Cheese': ['Swiss'],\n",
    "    'Gouda': ['gouda'],\n",
    "    'Mozzarella': ['mozzarella'],\n",
    "    'Cottage': ['ricotta'],\n",
    "    'Tomme': ['Swiss'],\n",
    "    'Brie': ['brie'],\n",
    "    'Parmesan': ['parmesan'],\n",
    "    'Camembert': ['camembert'],\n",
    "    'Monterey Jack': ['cheddar'],\n",
    "    'Pasta filata': ['mozzarella'],\n",
    "    'Caciotta': ['mozzarella'],\n",
    "    'Pecorino': ['pecorino'],\n",
    "    'Gorgonzola': ['gorgonzola'],\n",
    "    'Raclette': ['Swiss'],\n",
    "    'Cornish': ['cheddar'],\n",
    "    'Havarti': ['gouda'],\n",
    "    'Italian Cheese': [''],\n",
    "    'Saint-Paulin': ['brie']\n",
    "}\n",
    "family_mapping = pd.DataFrame.from_dict(cheese_family_mapping, orient='index', columns=['family_en'])\n",
    "# family_mapping"
   ]
  },
  {
   "cell_type": "markdown",
   "metadata": {},
   "source": [
    "Merging"
   ]
  },
  {
   "cell_type": "code",
   "execution_count": 161,
   "metadata": {},
   "outputs": [],
   "source": [
    "cheese_family = cheese[['cheese', 'family']]\n",
    "cheese_family_mapped = cheese_family.merge(family_mapping, how = 'left', left_on='family', right_index=True )\n",
    "cheese_family_mapped = cheese_family_mapped.drop_duplicates(subset = ['family_en','cheese'])\n",
    "# cheese_family_mapped"
   ]
  },
  {
   "cell_type": "markdown",
   "metadata": {},
   "source": [
    "Collaps"
   ]
  },
  {
   "cell_type": "code",
   "execution_count": 162,
   "metadata": {},
   "outputs": [],
   "source": [
    "cheese_family_mapped['family_en'] = cheese_family_mapped['family_en'].fillna('').astype(str)\n",
    "cheese_family_final = cheese_family_mapped.groupby(by='cheese').agg({'family_en':', '.join})\n",
    "# cheese_family_final\n",
    "cheese_merged = cheese_merged.merge(cheese_family_final, how = 'left', on = 'cheese')"
   ]
  },
  {
   "cell_type": "markdown",
   "metadata": {},
   "source": [
    "Dummies"
   ]
  },
  {
   "cell_type": "code",
   "execution_count": 163,
   "metadata": {},
   "outputs": [],
   "source": [
    "family_dummies = cheese_merged['family_en'].str.get_dummies(sep=', ').astype(bool)\n",
    "cheese_merged = pd.concat([cheese_merged, family_dummies], axis=1)\n",
    "# cheese_merged"
   ]
  },
  {
   "cell_type": "code",
   "execution_count": 164,
   "metadata": {},
   "outputs": [],
   "source": [
    "cheese_merged['family_manchego'] = False\n",
    "cheese_merged['family_goat'] = False "
   ]
  },
  {
   "cell_type": "markdown",
   "metadata": {},
   "source": [
    "### Family wedding"
   ]
  },
  {
   "cell_type": "code",
   "execution_count": 165,
   "metadata": {},
   "outputs": [],
   "source": [
    "# list(wedding['Tipo de Queijo'].unique())"
   ]
  },
  {
   "cell_type": "markdown",
   "metadata": {},
   "source": [
    "Mapping"
   ]
  },
  {
   "cell_type": "code",
   "execution_count": 166,
   "metadata": {},
   "outputs": [],
   "source": [
    "wedding_family_translation = {\n",
    "    'Azul': ['blue'],\n",
    "    'Gouda': ['gouda'],\n",
    "    'Gorgonzola': ['gorgonzola'],\n",
    "    'Pecorino': ['pecorino'],\n",
    "    'Parmesão': ['parmesan'],\n",
    "    'Gruyère': ['Swiss'],\n",
    "    'Brie': ['brie'],\n",
    "    'Camembert': ['camembert'],\n",
    "    'Roquefort': ['blue'],\n",
    "    'Cheddar': ['cheddar'],\n",
    "    'Emmental': ['Swiss'],\n",
    "    'Mozzarella': ['mozzarella'],\n",
    "    'Comté': ['Swiss'],\n",
    "    'Manchego': ['manchego'],\n",
    "    'Ricota': ['ricotta'],\n",
    "    'Cabra': ['goat'],\n",
    "    'Feta': ['feta']\n",
    "}\n",
    "family_translation= pd.DataFrame.from_dict(wedding_family_translation, orient='index', columns=['family_pt'])\n",
    "#family_translation"
   ]
  },
  {
   "cell_type": "markdown",
   "metadata": {},
   "source": [
    "Merging"
   ]
  },
  {
   "cell_type": "code",
   "execution_count": 167,
   "metadata": {},
   "outputs": [],
   "source": [
    "wedding_family = wedding[['Tipo de Queijo']]\n",
    "wedding_family_translated = wedding_family.merge(family_translation, how = 'left', left_on='Tipo de Queijo', right_index=True)\n",
    "wedding_family_translated = wedding_family_translated.drop_duplicates(subset = ['family_pt','Tipo de Queijo'])\n",
    "# wedding_family_translated"
   ]
  },
  {
   "cell_type": "markdown",
   "metadata": {},
   "source": [
    "Collaps"
   ]
  },
  {
   "cell_type": "code",
   "execution_count": 168,
   "metadata": {},
   "outputs": [],
   "source": [
    "wedding_family_translated['family_pt'] = wedding_family_translated['family_pt'].fillna('').astype(str)\n",
    "wedding_family_final= wedding_family_translated.groupby(by='Tipo de Queijo').agg({'family_pt':', '.join})\n",
    "#wedding_family_final\n",
    "wedding_merged = wedding_merged.merge(wedding_family_final, how = 'left', on = 'Tipo de Queijo')"
   ]
  },
  {
   "cell_type": "markdown",
   "metadata": {},
   "source": [
    "Dummies"
   ]
  },
  {
   "cell_type": "code",
   "execution_count": 169,
   "metadata": {},
   "outputs": [],
   "source": [
    "family_pt_dummies = wedding_merged['family_pt'].str.get_dummies(sep=', ').astype(bool)\n",
    "wedding_merged = pd.concat([wedding_merged, family_pt_dummies], axis=1)\n",
    "# wedding_merged"
   ]
  },
  {
   "cell_type": "markdown",
   "metadata": {},
   "source": [
    "### Flavor cheese"
   ]
  },
  {
   "cell_type": "markdown",
   "metadata": {},
   "source": [
    "Explode"
   ]
  },
  {
   "cell_type": "code",
   "execution_count": 170,
   "metadata": {},
   "outputs": [],
   "source": [
    "cheese['flavor_list'] = cheese['flavor'].str.split(',')\n",
    "cheese_flavor = cheese[['cheese', 'flavor_list']].explode('flavor_list')\n",
    "cheese_flavor['flavor_list'] = cheese_flavor['flavor_list'].str.strip()\n",
    "cheese_flavor['flavor_list'] = cheese_flavor['flavor_list'].str.lower()\n",
    "# print(cheese_flavor)\n",
    "# list(cheese_flavor['flavor_list'].unique())"
   ]
  },
  {
   "cell_type": "markdown",
   "metadata": {},
   "source": [
    "Mapping"
   ]
  },
  {
   "cell_type": "code",
   "execution_count": 171,
   "metadata": {},
   "outputs": [],
   "source": [
    "cheese_flavor_mapping = {\n",
    "    'sweet': ['slightly sweet'],\n",
    "    'burnt caramel': ['nutty'],\n",
    "    'acidic': ['slightly acidic'],\n",
    "    'milky': ['milky'],\n",
    "    'smooth': ['creamy'],\n",
    "    'fruity': ['fruity'],\n",
    "    'nutty': ['nutty'],\n",
    "    'salty': ['salty'],\n",
    "    'mild': ['mild'],\n",
    "    'tangy': ['blue veins'],\n",
    "    'strong': ['intense'],\n",
    "    'buttery': ['creamy'],\n",
    "    'citrusy': ['fresh'],\n",
    "    'herbaceous': ['goat-like'],\n",
    "    'sharp': ['slightly spicy'],\n",
    "    'subtle': ['mild'],\n",
    "    'creamy': ['creamy'],\n",
    "    'pronounced': ['pronounced aroma'],\n",
    "    'spicy': ['spicy'],\n",
    "    'mellow': ['mild'],\n",
    "    'oceanic': ['salty'],\n",
    "    'earthy': ['complex'],\n",
    "    'butterscotch': ['slightly sweet'],\n",
    "    'full-flavored': ['intense'],\n",
    "    'smokey': ['complex'],\n",
    "    'garlicky': ['pronounced aroma'],\n",
    "    'piquant': ['spicy'],\n",
    "    'caramel': ['slightly sweet'],\n",
    "    'bitter': ['intense'],\n",
    "    'floral': ['slightly fruity'],\n",
    "    'grassy': ['fresh'],\n",
    "    'savory': ['slightly salty'],\n",
    "    'mushroomy': ['blue veins'],\n",
    "    'lemony': ['fresh'],\n",
    "    'woody': ['nutty'],\n",
    "    'sour': ['slightly acidic'],\n",
    "    'tart': ['slightly acidic'],\n",
    "    'pungent': ['intense'],\n",
    "    'meaty': ['complex'],\n",
    "    'licorice': ['pronounced aroma'],\n",
    "    'yeasty': ['dairy-like'],\n",
    "    'umami': ['complex'],\n",
    "    'vegetal': ['fresh'],\n",
    "    'crunchy': ['nutty'],\n",
    "    'rustic': ['goat-like']\n",
    "}\n",
    "flavor_mapping = pd.DataFrame.from_dict(cheese_flavor_mapping, orient='index', columns=['flavor'])\n",
    "# flavor_mapping"
   ]
  },
  {
   "cell_type": "markdown",
   "metadata": {},
   "source": [
    "Merging"
   ]
  },
  {
   "cell_type": "code",
   "execution_count": 172,
   "metadata": {},
   "outputs": [],
   "source": [
    "cheese_flavor_mapped = cheese_flavor.merge(flavor_mapping, how = 'left', left_on='flavor_list', right_index=True )\n",
    "cheese_flavor_mapped = cheese_flavor_mapped.drop_duplicates(subset = ['flavor','cheese'])\n",
    "cheese_flavor_mapped['flavor'] = cheese_flavor_mapped['flavor'].fillna('').astype(str)\n",
    "# cheese_flavor_mapped"
   ]
  },
  {
   "cell_type": "markdown",
   "metadata": {},
   "source": [
    "Collaps"
   ]
  },
  {
   "cell_type": "code",
   "execution_count": 173,
   "metadata": {},
   "outputs": [],
   "source": [
    "cheese_flavor_final = cheese_flavor_mapped.groupby(by='cheese').agg({'flavor':', '.join})\n",
    "cheese_merged = cheese_merged.merge(cheese_flavor_final, how = 'left', on = 'cheese')\n",
    "# cheese_merged"
   ]
  },
  {
   "cell_type": "markdown",
   "metadata": {},
   "source": [
    "Dummies"
   ]
  },
  {
   "cell_type": "code",
   "execution_count": 174,
   "metadata": {},
   "outputs": [],
   "source": [
    "flavor_dummies = cheese_merged['flavor_y'].str.get_dummies(sep=', ').astype(bool)\n",
    "cheese_merged = pd.concat([cheese_merged, flavor_dummies], axis=1)\n",
    "# cheese_merged"
   ]
  },
  {
   "cell_type": "code",
   "execution_count": 175,
   "metadata": {},
   "outputs": [],
   "source": [
    "cheese_merged['flavor_velvety'] = False"
   ]
  },
  {
   "cell_type": "markdown",
   "metadata": {},
   "source": [
    "### Flavor wedding"
   ]
  },
  {
   "cell_type": "markdown",
   "metadata": {},
   "source": [
    "Melt"
   ]
  },
  {
   "cell_type": "code",
   "execution_count": 176,
   "metadata": {},
   "outputs": [],
   "source": [
    "wedding_melted = (\n",
    "    wedding.melt(id_vars=['Tipo de Queijo'], value_vars=['Sabor Queijo 1', 'Sabor Queijo 2', 'Sabor Queijo 3', 'Sabor Queijo 4'], value_name='flavor')\n",
    "      .dropna(subset=['flavor'])\n",
    "      .groupby('Tipo de Queijo')['flavor']\n",
    "      .apply(','.join)\n",
    "      .reset_index()\n",
    ")"
   ]
  },
  {
   "cell_type": "markdown",
   "metadata": {},
   "source": [
    "Explode"
   ]
  },
  {
   "cell_type": "code",
   "execution_count": 177,
   "metadata": {},
   "outputs": [],
   "source": [
    "wedding_melted['flavor_list'] = wedding_melted['flavor'].str.split(',')\n",
    "melted_flavor = wedding_melted[['Tipo de Queijo', 'flavor_list']].explode('flavor_list')\n",
    "melted_flavor['flavor_list'] = melted_flavor['flavor_list'].str.strip()\n",
    "melted_flavor['flavor_list'] = melted_flavor['flavor_list'].str.lower()\n",
    "# print(melted_flavor)\n",
    "# list(melted_flavor['flavor_list'].unique())\n"
   ]
  },
  {
   "cell_type": "markdown",
   "metadata": {},
   "source": [
    "Mapping"
   ]
  },
  {
   "cell_type": "code",
   "execution_count": 178,
   "metadata": {},
   "outputs": [],
   "source": [
    "wedding_flavor_translation = {\n",
    "    'intenso': ['intense'],\n",
    "    'salgado': ['salty'],\n",
    "    'picante': ['spicy'],\n",
    "    'veias azuis': ['blue veins'],\n",
    "    'suave': ['mild'],\n",
    "    'levemente adocicado': ['slightly sweet'],\n",
    "    'levemente ácido': ['slightly acidic'],\n",
    "    'caprino': ['goat-like'],\n",
    "    'fresco': ['fresh'],\n",
    "    'frutado': ['fruity'],\n",
    "    'levemente picante': ['slightly spicy'],\n",
    "    'leitoso': ['milky'],\n",
    "    'levemente frutado': ['slightly fruity'],\n",
    "    'cremoso': ['creamy'],\n",
    "    'aroma acentuado': ['pronounced aroma'],\n",
    "    'levemente salgado': ['slightly salty'],\n",
    "    'aveludado': ['velvety'],\n",
    "    'complexo': ['complex'],\n",
    "    'nozes': ['nutty'],\n",
    "    'lácteo': ['dairy-like'],\n",
    "    'levemente doce': ['slightly sweet'],\n",
    "    'fresca': ['fresh']\n",
    "}\n",
    "flavor_translation= pd.DataFrame.from_dict(wedding_flavor_translation, orient='index', columns=['flavor_pt'])\n",
    "# flavor_translation"
   ]
  },
  {
   "cell_type": "markdown",
   "metadata": {},
   "source": [
    "Merging"
   ]
  },
  {
   "cell_type": "code",
   "execution_count": 179,
   "metadata": {},
   "outputs": [],
   "source": [
    "wedding_flavor_translated = melted_flavor.merge(flavor_translation, how = 'left', left_on='flavor_list', right_index=True)\n",
    "wedding_flavor_translated = wedding_flavor_translated.drop_duplicates(subset = ['flavor_pt','Tipo de Queijo'])\n",
    "wedding_flavor_translated['flavor_pt'] = wedding_flavor_translated['flavor_pt'].fillna('').astype(str)\n",
    "# wedding_flavor_translated"
   ]
  },
  {
   "cell_type": "markdown",
   "metadata": {},
   "source": [
    "Collaps"
   ]
  },
  {
   "cell_type": "code",
   "execution_count": 180,
   "metadata": {},
   "outputs": [],
   "source": [
    "wedding_flavor_final= wedding_flavor_translated.groupby(by='Tipo de Queijo').agg({'flavor_pt':', '.join})\n",
    "wedding_merged = wedding_merged.merge(wedding_flavor_final, how = 'left', on = 'Tipo de Queijo')\n",
    "# wedding_merged"
   ]
  },
  {
   "cell_type": "markdown",
   "metadata": {},
   "source": [
    "Dummies"
   ]
  },
  {
   "cell_type": "code",
   "execution_count": 181,
   "metadata": {},
   "outputs": [],
   "source": [
    "flavor_pt_dummies = wedding_merged['flavor_pt'].str.get_dummies(sep=', ').astype(bool)\n",
    "wedding_merged = pd.concat([wedding_merged, flavor_pt_dummies], axis=1)\n",
    "# wedding_merged"
   ]
  },
  {
   "cell_type": "code",
   "execution_count": 182,
   "metadata": {},
   "outputs": [],
   "source": [
    "pd.set_option('future.no_silent_downcasting', True)\n",
    "cheese_merged['vegetarian'] = cheese_merged['vegetarian'].fillna(False)\n",
    "cheese_merged['vegan'] = cheese_merged['vegan'].fillna(False)"
   ]
  },
  {
   "cell_type": "markdown",
   "metadata": {},
   "source": [
    "### Rename & replace"
   ]
  },
  {
   "cell_type": "markdown",
   "metadata": {},
   "source": [
    "wedding - wine"
   ]
  },
  {
   "cell_type": "code",
   "execution_count": 183,
   "metadata": {},
   "outputs": [],
   "source": [
    "wedding_merged = wedding_merged.rename(columns={'Tipo Vinho': 'Type of Wine', \n",
    "                                                'Uva Vinho': 'Wine Grape'})"
   ]
  },
  {
   "cell_type": "code",
   "execution_count": 184,
   "metadata": {},
   "outputs": [],
   "source": [
    "wedding_merged['Type of Wine'] = wedding_merged['Type of Wine'].replace({'Tinto': 'red',\n",
    "                                                                        'Rosé': 'rosé',\n",
    "                                                                        'Porto': 'port',\n",
    "                                                                        'Branco': 'white'})"
   ]
  },
  {
   "cell_type": "markdown",
   "metadata": {},
   "source": [
    "Drop 'texture list' and temporarily rename duplicated columns"
   ]
  },
  {
   "cell_type": "code",
   "execution_count": 185,
   "metadata": {},
   "outputs": [],
   "source": [
    "wedding_merged = wedding_merged.drop('texture_list', axis=1)"
   ]
  },
  {
   "cell_type": "code",
   "execution_count": 186,
   "metadata": {},
   "outputs": [],
   "source": [
    "# wedding_merged.columns[wedding_merged.columns.duplicated()]"
   ]
  },
  {
   "cell_type": "code",
   "execution_count": 187,
   "metadata": {},
   "outputs": [],
   "source": [
    "wedding_counts = {}\n",
    "\n",
    "wedding_new_columns = []\n",
    "for column in wedding_merged.columns:\n",
    "    if column in wedding_counts:\n",
    "        wedding_counts[column] += 1\n",
    "        wedding_new_columns.append(f\"{column}_{wedding_counts[column]}\")\n",
    "    else:\n",
    "        wedding_counts[column] = 0\n",
    "        wedding_new_columns.append(column)\n",
    "\n",
    "# print(wedding_counts)\n",
    "# print(wedding_new_columns)\n",
    "\n",
    "wedding_merged.columns = wedding_new_columns"
   ]
  },
  {
   "cell_type": "markdown",
   "metadata": {},
   "source": [
    "wedding - rename True/False columns"
   ]
  },
  {
   "cell_type": "code",
   "execution_count": 188,
   "metadata": {},
   "outputs": [],
   "source": [
    "wedding_merged = wedding_merged.rename(columns={'texture_pt': 'texture_new', \n",
    "                                                'creamy': 'texture_creamy',\n",
    "                                                'crumbly': 'texture_crumbly',\n",
    "                                                'elastic': 'texture_elastic',\n",
    "                                                'firm': 'texture_firm',\n",
    "                                                'granular': 'texture_granular',\n",
    "                                                'hard': 'texture_hard',\n",
    "                                                'smooth': 'texture_smooth',\n",
    "                                                'type_pt': 'type_new',\n",
    "                                                'blue': 'type_blue',\n",
    "                                                'fresh': 'type_fresh',\n",
    "                                                'hard_1': 'type_hard',\n",
    "                                                'semi-hard': 'type_semi-hard',\n",
    "                                                'soft': 'type_soft',\n",
    "                                                'family_pt': 'family_new',\n",
    "                                                'Swiss': 'family_Swiss',\n",
    "                                                'blue_1': 'family_blue',\n",
    "                                                'brie': 'family_brie',\n",
    "                                                'camembert': 'family_camembert',\n",
    "                                                'cheddar': 'family_cheddar',\n",
    "                                                'feta': 'family_feta',\n",
    "                                                'goat': 'family_goat',\n",
    "                                                'gorgonzola': 'family_gorgonzola',\n",
    "                                                'gouda': 'family_gouda',\n",
    "                                                'manchego': 'family_manchego',\n",
    "                                                'mozzarella': 'family_mozzarella',\n",
    "                                                'parmesan': 'family_parmesan',\n",
    "                                                'pecorino': 'family_pecorino',\n",
    "                                                'ricotta': 'family_ricotta',\n",
    "                                                'flavor_pt': 'flavor_new',\n",
    "                                                'blue veins': 'flavor_blue_veins',\n",
    "                                                'complex': 'flavor_complex',\n",
    "                                                'creamy_1': 'flavor_creamy',\n",
    "                                                'dairy-like': 'flavor_dairy-like',\n",
    "                                                'fresh_1': 'flavor_fresh',\n",
    "                                                'fruity': 'flavor_fruity',\n",
    "                                                'goat-like': 'flavor_goat-like',\n",
    "                                                'intense': 'flavor_intense',\n",
    "                                                'mild': 'flavor_mild',\n",
    "                                                'milky': 'flavor_milky',\n",
    "                                                'nutty': 'flavor_nutty',\n",
    "                                                'pronounced aroma': 'flavor_pronounced_aroma',\n",
    "                                                'salty': 'flavor_salty',\n",
    "                                                'slightly acidic': 'flavor_slightly_acidic',\n",
    "                                                'slightly fruity': 'flavor_slightly_fruity',\n",
    "                                                'slightly salty': 'flavor_slightly_salty',\n",
    "                                                'slightly spicy': 'flavor_slightly_spicy',\n",
    "                                                'slightly sweet': 'flavor_slightly_sweet',\n",
    "                                                'spicy': 'flavor_spicy',\n",
    "                                                'velvety': 'flavor_velvety'\n",
    "                                                })"
   ]
  },
  {
   "cell_type": "markdown",
   "metadata": {},
   "source": [
    "cheese - rename True/False columns"
   ]
  },
  {
   "cell_type": "code",
   "execution_count": 189,
   "metadata": {},
   "outputs": [],
   "source": [
    "# cheese_merged.columns[cheese_merged.columns.duplicated()]"
   ]
  },
  {
   "cell_type": "code",
   "execution_count": 190,
   "metadata": {},
   "outputs": [],
   "source": [
    "cheese_counts = {}\n",
    "\n",
    "cheese_new_columns = []\n",
    "for column in cheese_merged.columns:\n",
    "    if column in cheese_counts:\n",
    "        cheese_counts[column] += 1\n",
    "        cheese_new_columns.append(f\"{column}_{cheese_counts[column]}\")\n",
    "    else:\n",
    "        cheese_counts[column] = 0\n",
    "        cheese_new_columns.append(column)\n",
    "\n",
    "# print(cheese_counts)\n",
    "# print(cheese_new_columns)\n",
    "\n",
    "cheese_merged.columns = cheese_new_columns"
   ]
  },
  {
   "cell_type": "code",
   "execution_count": 191,
   "metadata": {},
   "outputs": [],
   "source": [
    "cheese_merged = cheese_merged.drop('texture_list', axis=1)"
   ]
  },
  {
   "cell_type": "code",
   "execution_count": 192,
   "metadata": {},
   "outputs": [],
   "source": [
    "# cheese_merged.columns"
   ]
  },
  {
   "cell_type": "code",
   "execution_count": 193,
   "metadata": {},
   "outputs": [],
   "source": [
    "cheese_merged = cheese_merged.rename(columns={'type_x': 'type', \n",
    "                                                'texture_x': 'texture', \n",
    "                                                'flavor_x': 'flavor',                                               \n",
    "                                                'texture_y': 'texture_new', \n",
    "                                                'creamy': 'texture_creamy',\n",
    "                                                'crumbly': 'texture_crumbly',\n",
    "                                                'elastic': 'texture_elastic',\n",
    "                                                'firm': 'texture_firm',\n",
    "                                                'granular': 'texture_granular',\n",
    "                                                'hard': 'texture_hard',\n",
    "                                                'smooth': 'texture_smooth',\n",
    "                                                'type_y': 'type_new',\n",
    "                                                'blue': 'type_blue',\n",
    "                                                'fresh': 'type_fresh',\n",
    "                                                'hard_1': 'type_hard',\n",
    "                                                'semi-hard': 'type_semi-hard',\n",
    "                                                'soft': 'type_soft',\n",
    "                                                'family_en': 'family_new',\n",
    "                                                'Swiss': 'family_Swiss',\n",
    "                                                'blue_1': 'family_blue',\n",
    "                                                'brie': 'family_brie',\n",
    "                                                'camembert': 'family_camembert',\n",
    "                                                'cheddar': 'family_cheddar',\n",
    "                                                'feta': 'family_feta',\n",
    "                                                'goat': 'family_goat',\n",
    "                                                'gorgonzola': 'family_gorgonzola',\n",
    "                                                'gouda': 'family_gouda',\n",
    "                                                'manchego': 'family_manchego',\n",
    "                                                'mozzarella': 'family_mozzarella',\n",
    "                                                'parmesan': 'family_parmesan',\n",
    "                                                'pecorino': 'family_pecorino',\n",
    "                                                'ricotta': 'family_ricotta',\n",
    "                                                'flavor_y': 'flavor_new',\n",
    "                                                'blue veins': 'flavor_blue_veins',\n",
    "                                                'complex': 'flavor_complex',\n",
    "                                                'creamy_1': 'flavor_creamy',\n",
    "                                                'dairy-like': 'flavor_dairy-like',\n",
    "                                                'fresh_1': 'flavor_fresh',\n",
    "                                                'fruity': 'flavor_fruity',\n",
    "                                                'goat-like': 'flavor_goat-like',\n",
    "                                                'intense': 'flavor_intense',\n",
    "                                                'mild': 'flavor_mild',\n",
    "                                                'milky': 'flavor_milky',\n",
    "                                                'nutty': 'flavor_nutty',\n",
    "                                                'pronounced aroma': 'flavor_pronounced_aroma',\n",
    "                                                'salty': 'flavor_salty',\n",
    "                                                'slightly acidic': 'flavor_slightly_acidic',\n",
    "                                                'slightly fruity': 'flavor_slightly_fruity',\n",
    "                                                'slightly salty': 'flavor_slightly_salty',\n",
    "                                                'slightly spicy': 'flavor_slightly_spicy',\n",
    "                                                'slightly sweet': 'flavor_slightly_sweet',\n",
    "                                                'spicy': 'flavor_spicy'\n",
    "                                                })"
   ]
  },
  {
   "cell_type": "code",
   "execution_count": 194,
   "metadata": {},
   "outputs": [],
   "source": [
    "wedding_merged['wedding_ID'] = wedding_merged['Type of Wine'] + \" - \" + wedding_merged['Wine Grape']  # Kombinace sloupců Type of Wine a Wine Grape"
   ]
  },
  {
   "cell_type": "code",
   "execution_count": 195,
   "metadata": {},
   "outputs": [
    {
     "data": {
      "text/plain": [
       "69"
      ]
     },
     "execution_count": 195,
     "metadata": {},
     "output_type": "execute_result"
    }
   ],
   "source": [
    "len(cheese_merged.columns)"
   ]
  },
  {
   "cell_type": "code",
   "execution_count": 196,
   "metadata": {},
   "outputs": [],
   "source": [
    "# wedding_merged"
   ]
  },
  {
   "cell_type": "code",
   "execution_count": 197,
   "metadata": {},
   "outputs": [],
   "source": [
    "cheese_merged.to_csv('cheese_merged.csv', index=False)\n",
    "\n"
   ]
  },
  {
   "cell_type": "code",
   "execution_count": 198,
   "metadata": {},
   "outputs": [],
   "source": [
    "wedding_merged.to_csv('wedding_merged.csv', index=False)"
   ]
  }
 ],
 "metadata": {
  "kernelspec": {
   "display_name": "Python 3",
   "language": "python",
   "name": "python3"
  },
  "language_info": {
   "codemirror_mode": {
    "name": "ipython",
    "version": 3
   },
   "file_extension": ".py",
   "mimetype": "text/x-python",
   "name": "python",
   "nbconvert_exporter": "python",
   "pygments_lexer": "ipython3",
   "version": "3.12.10"
  }
 },
 "nbformat": 4,
 "nbformat_minor": 2
}
