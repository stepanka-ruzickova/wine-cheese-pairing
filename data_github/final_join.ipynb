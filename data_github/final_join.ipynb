{
 "cells": [
  {
   "cell_type": "code",
   "execution_count": 31,
   "metadata": {},
   "outputs": [],
   "source": [
    "import pandas as pd \n"
   ]
  },
  {
   "cell_type": "code",
   "execution_count": 32,
   "metadata": {},
   "outputs": [],
   "source": [
    "wedding_merged = pd.read_csv(r'C:\\Users\\NB\\OneDrive\\Dokumenty\\aDA_24_PROJECT\\wedding_merged.csv')\n",
    "cheese_merged = pd.read_csv(r'C:\\Users\\NB\\OneDrive\\Dokumenty\\aDA_24_PROJECT\\cheese_merged.csv')"
   ]
  },
  {
   "cell_type": "code",
   "execution_count": 33,
   "metadata": {},
   "outputs": [
    {
     "data": {
      "text/html": [
       "<div>\n",
       "<style scoped>\n",
       "    .dataframe tbody tr th:only-of-type {\n",
       "        vertical-align: middle;\n",
       "    }\n",
       "\n",
       "    .dataframe tbody tr th {\n",
       "        vertical-align: top;\n",
       "    }\n",
       "\n",
       "    .dataframe thead th {\n",
       "        text-align: right;\n",
       "    }\n",
       "</style>\n",
       "<table border=\"1\" class=\"dataframe\">\n",
       "  <thead>\n",
       "    <tr style=\"text-align: right;\">\n",
       "      <th></th>\n",
       "      <th>Type of Wine</th>\n",
       "      <th>Wine Grape</th>\n",
       "      <th>Estilo Vinho</th>\n",
       "      <th>Característica Vinho 1</th>\n",
       "      <th>Característica Vinho 2</th>\n",
       "      <th>Característica Vinho 3</th>\n",
       "      <th>Característica Vinho 4</th>\n",
       "      <th>Tipo de Queijo</th>\n",
       "      <th>Família Queijo</th>\n",
       "      <th>Textura Queijo</th>\n",
       "      <th>...</th>\n",
       "      <th>flavor_pronounced_aroma</th>\n",
       "      <th>flavor_salty</th>\n",
       "      <th>flavor_slightly_acidic</th>\n",
       "      <th>flavor_slightly_fruity</th>\n",
       "      <th>flavor_slightly_salty</th>\n",
       "      <th>flavor_slightly_spicy</th>\n",
       "      <th>flavor_slightly_sweet</th>\n",
       "      <th>flavor_spicy</th>\n",
       "      <th>flavor_velvety</th>\n",
       "      <th>wedding_ID</th>\n",
       "    </tr>\n",
       "  </thead>\n",
       "  <tbody>\n",
       "    <tr>\n",
       "      <th>0</th>\n",
       "      <td>red</td>\n",
       "      <td>Cabernet Sauvignon</td>\n",
       "      <td>Encorpado</td>\n",
       "      <td>Taninos firmes</td>\n",
       "      <td>frutas negras</td>\n",
       "      <td>especiarias</td>\n",
       "      <td>NaN</td>\n",
       "      <td>Azul</td>\n",
       "      <td>Azul</td>\n",
       "      <td>Cremosa, esfarelante</td>\n",
       "      <td>...</td>\n",
       "      <td>False</td>\n",
       "      <td>True</td>\n",
       "      <td>False</td>\n",
       "      <td>False</td>\n",
       "      <td>False</td>\n",
       "      <td>False</td>\n",
       "      <td>False</td>\n",
       "      <td>True</td>\n",
       "      <td>False</td>\n",
       "      <td>red - Cabernet Sauvignon</td>\n",
       "    </tr>\n",
       "    <tr>\n",
       "      <th>1</th>\n",
       "      <td>red</td>\n",
       "      <td>Cabernet Sauvignon</td>\n",
       "      <td>Encorpado</td>\n",
       "      <td>Taninos firmes</td>\n",
       "      <td>frutas negras</td>\n",
       "      <td>especiarias</td>\n",
       "      <td>NaN</td>\n",
       "      <td>Gouda</td>\n",
       "      <td>Semi-dura</td>\n",
       "      <td>Firme, macia</td>\n",
       "      <td>...</td>\n",
       "      <td>False</td>\n",
       "      <td>False</td>\n",
       "      <td>False</td>\n",
       "      <td>False</td>\n",
       "      <td>True</td>\n",
       "      <td>False</td>\n",
       "      <td>False</td>\n",
       "      <td>False</td>\n",
       "      <td>True</td>\n",
       "      <td>red - Cabernet Sauvignon</td>\n",
       "    </tr>\n",
       "  </tbody>\n",
       "</table>\n",
       "<p>2 rows × 68 columns</p>\n",
       "</div>"
      ],
      "text/plain": [
       "  Type of Wine          Wine Grape Estilo Vinho Característica Vinho 1  \\\n",
       "0          red  Cabernet Sauvignon    Encorpado         Taninos firmes   \n",
       "1          red  Cabernet Sauvignon    Encorpado         Taninos firmes   \n",
       "\n",
       "  Característica Vinho 2 Característica Vinho 3 Característica Vinho 4  \\\n",
       "0          frutas negras            especiarias                    NaN   \n",
       "1          frutas negras            especiarias                    NaN   \n",
       "\n",
       "  Tipo de Queijo Família Queijo        Textura Queijo  ...  \\\n",
       "0           Azul           Azul  Cremosa, esfarelante  ...   \n",
       "1          Gouda      Semi-dura          Firme, macia  ...   \n",
       "\n",
       "  flavor_pronounced_aroma flavor_salty flavor_slightly_acidic  \\\n",
       "0                   False         True                  False   \n",
       "1                   False        False                  False   \n",
       "\n",
       "  flavor_slightly_fruity flavor_slightly_salty flavor_slightly_spicy  \\\n",
       "0                  False                 False                 False   \n",
       "1                  False                  True                 False   \n",
       "\n",
       "  flavor_slightly_sweet flavor_spicy  flavor_velvety                wedding_ID  \n",
       "0                 False         True           False  red - Cabernet Sauvignon  \n",
       "1                 False        False            True  red - Cabernet Sauvignon  \n",
       "\n",
       "[2 rows x 68 columns]"
      ]
     },
     "execution_count": 33,
     "metadata": {},
     "output_type": "execute_result"
    }
   ],
   "source": [
    "wedding_merged.head(2)"
   ]
  },
  {
   "cell_type": "code",
   "execution_count": 34,
   "metadata": {},
   "outputs": [],
   "source": [
    "# Čištění sloupce 'type_new' - odstranění čárek na začátku\n",
    "cheese_merged['type_new'] = cheese_merged['type_new'].astype(str).str.strip().str.lstrip(\", \")\n",
    "\n",
    "\n"
   ]
  }
 ],
 "metadata": {
  "kernelspec": {
   "display_name": "Python 3",
   "language": "python",
   "name": "python3"
  },
  "language_info": {
   "codemirror_mode": {
    "name": "ipython",
    "version": 3
   },
   "file_extension": ".py",
   "mimetype": "text/x-python",
   "name": "python",
   "nbconvert_exporter": "python",
   "pygments_lexer": "ipython3",
   "version": "3.12.10"
  }
 },
 "nbformat": 4,
 "nbformat_minor": 2
}
